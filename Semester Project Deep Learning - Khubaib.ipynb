{
 "cells": [
  {
   "cell_type": "code",
   "execution_count": 1,
   "id": "ca28ec88",
   "metadata": {
    "execution": {
     "iopub.execute_input": "2023-01-09T05:05:51.901654Z",
     "iopub.status.busy": "2023-01-09T05:05:51.901076Z",
     "iopub.status.idle": "2023-01-09T05:06:03.492237Z",
     "shell.execute_reply": "2023-01-09T05:06:03.490855Z"
    },
    "papermill": {
     "duration": 11.602799,
     "end_time": "2023-01-09T05:06:03.494921",
     "exception": false,
     "start_time": "2023-01-09T05:05:51.892122",
     "status": "completed"
    },
    "tags": []
   },
   "outputs": [
    {
     "name": "stdout",
     "output_type": "stream",
     "text": [
      "Collecting visualkeras\r\n",
      "  Downloading visualkeras-0.0.2-py3-none-any.whl (12 kB)\r\n",
      "Requirement already satisfied: pillow>=6.2.0 in /opt/conda/lib/python3.7/site-packages (from visualkeras) (9.1.1)\r\n",
      "Collecting aggdraw>=1.3.11\r\n",
      "  Downloading aggdraw-1.3.15-cp37-cp37m-manylinux_2_17_x86_64.manylinux2014_x86_64.whl (989 kB)\r\n",
      "\u001b[2K     \u001b[90m━━━━━━━━━━━━━━━━━━━━━━━━━━━━━━━━━━━━━━━\u001b[0m \u001b[32m989.9/989.9 kB\u001b[0m \u001b[31m3.8 MB/s\u001b[0m eta \u001b[36m0:00:00\u001b[0m\r\n",
      "\u001b[?25hRequirement already satisfied: numpy>=1.18.1 in /opt/conda/lib/python3.7/site-packages (from visualkeras) (1.21.6)\r\n",
      "Installing collected packages: aggdraw, visualkeras\r\n",
      "Successfully installed aggdraw-1.3.15 visualkeras-0.0.2\r\n",
      "\u001b[33mWARNING: Running pip as the 'root' user can result in broken permissions and conflicting behaviour with the system package manager. It is recommended to use a virtual environment instead: https://pip.pypa.io/warnings/venv\u001b[0m\u001b[33m\r\n",
      "\u001b[0mNote: you may need to restart the kernel to use updated packages.\n"
     ]
    }
   ],
   "source": [
    "\n",
    "pip install visualkeras"
   ]
  },
  {
   "cell_type": "markdown",
   "id": "247b59e8",
   "metadata": {
    "papermill": {
     "duration": 0.007021,
     "end_time": "2023-01-09T05:06:03.509940",
     "exception": false,
     "start_time": "2023-01-09T05:06:03.502919",
     "status": "completed"
    },
    "tags": []
   },
   "source": [
    "**Importing Libraries**"
   ]
  },
  {
   "cell_type": "code",
   "execution_count": 2,
   "id": "e880fc9b",
   "metadata": {
    "execution": {
     "iopub.execute_input": "2023-01-09T05:06:03.526044Z",
     "iopub.status.busy": "2023-01-09T05:06:03.525692Z",
     "iopub.status.idle": "2023-01-09T05:06:09.626709Z",
     "shell.execute_reply": "2023-01-09T05:06:09.625742Z"
    },
    "papermill": {
     "duration": 6.1121,
     "end_time": "2023-01-09T05:06:09.629118",
     "exception": false,
     "start_time": "2023-01-09T05:06:03.517018",
     "status": "completed"
    },
    "tags": []
   },
   "outputs": [],
   "source": [
    "import os\n",
    "import datetime\n",
    "import numpy as np\n",
    "import pandas as pd\n",
    "import matplotlib.pyplot as plt\n",
    "from sklearn.metrics import confusion_matrix, ConfusionMatrixDisplay\n",
    "import tensorflow as tf\n",
    "import visualkeras\n",
    "from tensorflow.keras.callbacks import EarlyStopping, ReduceLROnPlateau\n",
    "from tensorflow.keras import Input, Model\n",
    "from tensorflow.keras.callbacks import EarlyStopping, TensorBoard\n",
    "from tensorflow.keras.metrics import Recall, Precision\n",
    "from tensorflow.keras.preprocessing.image import load_img, img_to_array, ImageDataGenerator\n",
    "from tensorflow.keras.layers import Conv2D, DepthwiseConv2D, Dense, Concatenate, Dropout, MaxPooling2D, GlobalAveragePooling2D\n",
    "from tensorflow.keras.utils import plot_model\n",
    "#from model_utility import plot_images"
   ]
  },
  {
   "cell_type": "markdown",
   "id": "5a595def",
   "metadata": {
    "papermill": {
     "duration": 0.007026,
     "end_time": "2023-01-09T05:06:09.643755",
     "exception": false,
     "start_time": "2023-01-09T05:06:09.636729",
     "status": "completed"
    },
    "tags": []
   },
   "source": [
    "**Initializing Iterations and Learning Rate**"
   ]
  },
  {
   "cell_type": "code",
   "execution_count": 3,
   "id": "65c162b0",
   "metadata": {
    "execution": {
     "iopub.execute_input": "2023-01-09T05:06:09.659935Z",
     "iopub.status.busy": "2023-01-09T05:06:09.658644Z",
     "iopub.status.idle": "2023-01-09T05:06:09.663565Z",
     "shell.execute_reply": "2023-01-09T05:06:09.662589Z"
    },
    "papermill": {
     "duration": 0.015061,
     "end_time": "2023-01-09T05:06:09.665738",
     "exception": false,
     "start_time": "2023-01-09T05:06:09.650677",
     "status": "completed"
    },
    "tags": []
   },
   "outputs": [],
   "source": [
    "EPOCHS = 15\n",
    "LR = 0.001\n"
   ]
  },
  {
   "cell_type": "markdown",
   "id": "4afbcf9e",
   "metadata": {
    "papermill": {
     "duration": 0.006683,
     "end_time": "2023-01-09T05:06:09.680602",
     "exception": false,
     "start_time": "2023-01-09T05:06:09.673919",
     "status": "completed"
    },
    "tags": []
   },
   "source": [
    "**Calling the Splitted Data**"
   ]
  },
  {
   "cell_type": "code",
   "execution_count": 4,
   "id": "46eb1767",
   "metadata": {
    "execution": {
     "iopub.execute_input": "2023-01-09T05:06:09.695840Z",
     "iopub.status.busy": "2023-01-09T05:06:09.695193Z",
     "iopub.status.idle": "2023-01-09T05:06:09.702384Z",
     "shell.execute_reply": "2023-01-09T05:06:09.701243Z"
    },
    "papermill": {
     "duration": 0.0174,
     "end_time": "2023-01-09T05:06:09.704861",
     "exception": false,
     "start_time": "2023-01-09T05:06:09.687461",
     "status": "completed"
    },
    "tags": []
   },
   "outputs": [
    {
     "name": "stdout",
     "output_type": "stream",
     "text": [
      "done\n"
     ]
    }
   ],
   "source": [
    "BASE_DIR = \"/kaggle/input/plant-deseas/data/\"\n",
    "Test_Dir = \"/kaggle/input/testing-data/\"\n",
    "TRAIN_DIR = os.path.join(BASE_DIR, \"train\")\n",
    "VAL_DIR = os.path.join(BASE_DIR, \"valid\")\n",
    "TEST_DIR = os.path.join(Test_Dir, \"test\")\n",
    "IMG_SHAPE  = (256, 256)\n",
    "BATCH_SIZE = 16\n",
    "print(\"done\")"
   ]
  },
  {
   "cell_type": "markdown",
   "id": "942b4d6b",
   "metadata": {
    "papermill": {
     "duration": 0.006738,
     "end_time": "2023-01-09T05:06:09.718798",
     "exception": false,
     "start_time": "2023-01-09T05:06:09.712060",
     "status": "completed"
    },
    "tags": []
   },
   "source": [
    "**Generation of Data**"
   ]
  },
  {
   "cell_type": "code",
   "execution_count": 5,
   "id": "70412818",
   "metadata": {
    "execution": {
     "iopub.execute_input": "2023-01-09T05:06:09.734221Z",
     "iopub.status.busy": "2023-01-09T05:06:09.733433Z",
     "iopub.status.idle": "2023-01-09T05:06:09.738957Z",
     "shell.execute_reply": "2023-01-09T05:06:09.737910Z"
    },
    "papermill": {
     "duration": 0.015342,
     "end_time": "2023-01-09T05:06:09.740946",
     "exception": false,
     "start_time": "2023-01-09T05:06:09.725604",
     "status": "completed"
    },
    "tags": []
   },
   "outputs": [],
   "source": [
    "genereator = ImageDataGenerator(\n",
    "        rescale = 1./255,\n",
    "        rotation_range = 15,\n",
    "        width_shift_range = 0.05,\n",
    "        height_shift_range = 0.05,\n",
    "        shear_range = 0.05,\n",
    "        zoom_range = 0.05,\n",
    "        horizontal_flip = True,\n",
    "        vertical_flip = True,\n",
    "        fill_mode = 'reflect'\n",
    "    )"
   ]
  },
  {
   "cell_type": "markdown",
   "id": "104a099d",
   "metadata": {
    "papermill": {
     "duration": 0.007044,
     "end_time": "2023-01-09T05:06:09.754881",
     "exception": false,
     "start_time": "2023-01-09T05:06:09.747837",
     "status": "completed"
    },
    "tags": []
   },
   "source": [
    "**Training Data**"
   ]
  },
  {
   "cell_type": "code",
   "execution_count": 6,
   "id": "4d5e58df",
   "metadata": {
    "execution": {
     "iopub.execute_input": "2023-01-09T05:06:09.770875Z",
     "iopub.status.busy": "2023-01-09T05:06:09.770045Z",
     "iopub.status.idle": "2023-01-09T05:06:21.784706Z",
     "shell.execute_reply": "2023-01-09T05:06:21.783219Z"
    },
    "papermill": {
     "duration": 12.02527,
     "end_time": "2023-01-09T05:06:21.787446",
     "exception": false,
     "start_time": "2023-01-09T05:06:09.762176",
     "status": "completed"
    },
    "tags": []
   },
   "outputs": [
    {
     "name": "stdout",
     "output_type": "stream",
     "text": [
      "Found 18255 images belonging to 10 classes.\n"
     ]
    }
   ],
   "source": [
    "train_data = genereator.flow_from_directory(\n",
    "        batch_size = BATCH_SIZE,\n",
    "        directory = TRAIN_DIR,\n",
    "        shuffle = True,\n",
    "        target_size = IMG_SHAPE\n",
    "    )"
   ]
  },
  {
   "cell_type": "markdown",
   "id": "d783bdea",
   "metadata": {
    "papermill": {
     "duration": 0.007205,
     "end_time": "2023-01-09T05:06:21.802291",
     "exception": false,
     "start_time": "2023-01-09T05:06:21.795086",
     "status": "completed"
    },
    "tags": []
   },
   "source": [
    "**Validation Data**\n"
   ]
  },
  {
   "cell_type": "code",
   "execution_count": 7,
   "id": "5edc3fa9",
   "metadata": {
    "execution": {
     "iopub.execute_input": "2023-01-09T05:06:21.817757Z",
     "iopub.status.busy": "2023-01-09T05:06:21.817159Z",
     "iopub.status.idle": "2023-01-09T05:06:22.774793Z",
     "shell.execute_reply": "2023-01-09T05:06:22.773516Z"
    },
    "papermill": {
     "duration": 0.967921,
     "end_time": "2023-01-09T05:06:22.777128",
     "exception": false,
     "start_time": "2023-01-09T05:06:21.809207",
     "status": "completed"
    },
    "tags": []
   },
   "outputs": [
    {
     "name": "stdout",
     "output_type": "stream",
     "text": [
      "Found 4585 images belonging to 10 classes.\n"
     ]
    }
   ],
   "source": [
    "val_data = genereator.flow_from_directory(\n",
    "        batch_size = BATCH_SIZE,\n",
    "        directory = VAL_DIR,\n",
    "        shuffle = True,\n",
    "        target_size = IMG_SHAPE\n",
    "    )"
   ]
  },
  {
   "cell_type": "markdown",
   "id": "750a5e48",
   "metadata": {
    "papermill": {
     "duration": 0.006872,
     "end_time": "2023-01-09T05:06:22.791729",
     "exception": false,
     "start_time": "2023-01-09T05:06:22.784857",
     "status": "completed"
    },
    "tags": []
   },
   "source": [
    "**CNN based Model Version 1 (V1)**"
   ]
  },
  {
   "cell_type": "code",
   "execution_count": 8,
   "id": "92874f26",
   "metadata": {
    "execution": {
     "iopub.execute_input": "2023-01-09T05:06:22.808152Z",
     "iopub.status.busy": "2023-01-09T05:06:22.807216Z",
     "iopub.status.idle": "2023-01-09T05:06:25.802511Z",
     "shell.execute_reply": "2023-01-09T05:06:25.800316Z"
    },
    "papermill": {
     "duration": 3.005793,
     "end_time": "2023-01-09T05:06:25.804876",
     "exception": false,
     "start_time": "2023-01-09T05:06:22.799083",
     "status": "completed"
    },
    "tags": []
   },
   "outputs": [
    {
     "name": "stderr",
     "output_type": "stream",
     "text": [
      "2023-01-09 05:06:22.921408: I tensorflow/stream_executor/cuda/cuda_gpu_executor.cc:937] successful NUMA node read from SysFS had negative value (-1), but there must be at least one NUMA node, so returning NUMA node zero\n",
      "2023-01-09 05:06:23.128424: I tensorflow/stream_executor/cuda/cuda_gpu_executor.cc:937] successful NUMA node read from SysFS had negative value (-1), but there must be at least one NUMA node, so returning NUMA node zero\n",
      "2023-01-09 05:06:23.129289: I tensorflow/stream_executor/cuda/cuda_gpu_executor.cc:937] successful NUMA node read from SysFS had negative value (-1), but there must be at least one NUMA node, so returning NUMA node zero\n",
      "2023-01-09 05:06:23.130993: I tensorflow/core/platform/cpu_feature_guard.cc:142] This TensorFlow binary is optimized with oneAPI Deep Neural Network Library (oneDNN) to use the following CPU instructions in performance-critical operations:  AVX2 AVX512F FMA\n",
      "To enable them in other operations, rebuild TensorFlow with the appropriate compiler flags.\n",
      "2023-01-09 05:06:23.131292: I tensorflow/stream_executor/cuda/cuda_gpu_executor.cc:937] successful NUMA node read from SysFS had negative value (-1), but there must be at least one NUMA node, so returning NUMA node zero\n",
      "2023-01-09 05:06:23.131980: I tensorflow/stream_executor/cuda/cuda_gpu_executor.cc:937] successful NUMA node read from SysFS had negative value (-1), but there must be at least one NUMA node, so returning NUMA node zero\n",
      "2023-01-09 05:06:23.132624: I tensorflow/stream_executor/cuda/cuda_gpu_executor.cc:937] successful NUMA node read from SysFS had negative value (-1), but there must be at least one NUMA node, so returning NUMA node zero\n",
      "2023-01-09 05:06:25.317751: I tensorflow/stream_executor/cuda/cuda_gpu_executor.cc:937] successful NUMA node read from SysFS had negative value (-1), but there must be at least one NUMA node, so returning NUMA node zero\n",
      "2023-01-09 05:06:25.318796: I tensorflow/stream_executor/cuda/cuda_gpu_executor.cc:937] successful NUMA node read from SysFS had negative value (-1), but there must be at least one NUMA node, so returning NUMA node zero\n",
      "2023-01-09 05:06:25.319627: I tensorflow/stream_executor/cuda/cuda_gpu_executor.cc:937] successful NUMA node read from SysFS had negative value (-1), but there must be at least one NUMA node, so returning NUMA node zero\n",
      "2023-01-09 05:06:25.320286: I tensorflow/core/common_runtime/gpu/gpu_device.cc:1510] Created device /job:localhost/replica:0/task:0/device:GPU:0 with 15401 MB memory:  -> device: 0, name: Tesla P100-PCIE-16GB, pci bus id: 0000:00:04.0, compute capability: 6.0\n"
     ]
    }
   ],
   "source": [
    "model = tf.keras.models.Sequential([\n",
    "\n",
    "tf.keras.layers.Conv2D(16, (7,7), activation=\"LeakyReLU\", input_shape=(256, 256, 3)),\n",
    "\n",
    "tf.keras.layers.MaxPooling2D(2,2),\n",
    "\n",
    "tf.keras.layers.Conv2D(32, (3,3), activation=\"LeakyReLU\"),\n",
    "\n",
    "tf.keras.layers.MaxPooling2D(2,2),\n",
    "    \n",
    "tf.keras.layers.Conv2D(64, (1,1), activation=\"LeakyReLU\"),\n",
    "\n",
    "tf.keras.layers.MaxPooling2D(2,2),\n",
    "\n",
    "tf.keras.layers.Conv2D(128, (3,3), activation=\"LeakyReLU\"),\n",
    "\n",
    "tf.keras.layers.MaxPooling2D(2,2),\n",
    "\n",
    "tf.keras.layers.Conv2D(256, (7,7), activation=\"LeakyReLU\"),\n",
    "\n",
    "tf.keras.layers.MaxPooling2D(2,2),\n",
    "    \n",
    "tf.keras.layers.Conv2D(512, (3,3), activation=\"LeakyReLU\"),\n",
    "\n",
    "tf.keras.layers.MaxPooling2D(2,2),\n",
    "tf.keras.layers.BatchNormalization(),\n",
    "tf.keras.layers. Flatten(),\n",
    "                       \n",
    "tf.keras.layers.Dense(256, activation=\"LeakyReLU\"),\n",
    "tf.keras.layers.Dropout(0.2),\n",
    "\n",
    "tf.keras.layers.Dense(128, activation=\"LeakyReLU\"),\n",
    "tf.keras.layers.Dropout(0.2),                       \n",
    "#tf.keras.layers.Dense(128, activation=\"relu\"),\n",
    "tf.keras.layers.Dense (10, activation= \"softmax\")\n",
    "])"
   ]
  },
  {
   "cell_type": "markdown",
   "id": "275e4360",
   "metadata": {
    "papermill": {
     "duration": 0.007473,
     "end_time": "2023-01-09T05:06:25.819784",
     "exception": false,
     "start_time": "2023-01-09T05:06:25.812311",
     "status": "completed"
    },
    "tags": []
   },
   "source": [
    "**CNN based Model Version 2 (V2)**"
   ]
  },
  {
   "cell_type": "code",
   "execution_count": 9,
   "id": "eed7f243",
   "metadata": {
    "execution": {
     "iopub.execute_input": "2023-01-09T05:06:25.836477Z",
     "iopub.status.busy": "2023-01-09T05:06:25.836117Z",
     "iopub.status.idle": "2023-01-09T05:06:25.841473Z",
     "shell.execute_reply": "2023-01-09T05:06:25.840250Z"
    },
    "papermill": {
     "duration": 0.016316,
     "end_time": "2023-01-09T05:06:25.843441",
     "exception": false,
     "start_time": "2023-01-09T05:06:25.827125",
     "status": "completed"
    },
    "tags": []
   },
   "outputs": [],
   "source": [
    "# model = tf.keras.models.Sequential([\n",
    "\n",
    "# tf.keras.layers.Conv2D(16, (7,7), padding=\"same\", activation=\"LeakyReLU\", input_shape=(256, 256, 3)),\n",
    "# tf.keras.layers.Conv2D(16, (7,7), padding=\"same\", activation=\"LeakyReLU\"),\n",
    "# tf.keras.layers.BatchNormalization(),\n",
    "# tf.keras.layers.MaxPooling2D(2,2),\n",
    "\n",
    "# tf.keras.layers.Conv2D(32, (3,3), padding=\"same\", activation=\"LeakyReLU\"),\n",
    "# tf.keras.layers.Conv2D(32, (3,3), padding=\"same\", activation=\"LeakyReLU\"),\n",
    "# tf.keras.layers.BatchNormalization(),\n",
    "# tf.keras.layers.MaxPooling2D(2,2),\n",
    "    \n",
    "# tf.keras.layers.Conv2D(64, (1,1), padding=\"same\", activation=\"LeakyReLU\"),\n",
    "# tf.keras.layers.Conv2D(64, (1,1), padding=\"same\", activation=\"LeakyReLU\"),\n",
    "# tf.keras.layers.BatchNormalization(),\n",
    "# tf.keras.layers.MaxPooling2D(2,2),\n",
    "\n",
    "# tf.keras.layers.Conv2D(128, (3,3), padding=\"same\", activation=\"LeakyReLU\"),\n",
    "# tf.keras.layers.Conv2D(128, (3,3), padding=\"same\", activation=\"LeakyReLU\"),\n",
    "# tf.keras.layers.BatchNormalization(),\n",
    "# tf.keras.layers.MaxPooling2D(2,2),\n",
    "\n",
    "# tf.keras.layers.Conv2D(256, (7,7), padding=\"same\", activation=\"LeakyReLU\"),\n",
    "# tf.keras.layers.Conv2D(256, (7,7), padding=\"same\", activation=\"LeakyReLU\"),\n",
    "# tf.keras.layers.BatchNormalization(),\n",
    "# tf.keras.layers.MaxPooling2D(2,2),\n",
    "\n",
    "# tf.keras.layers.Conv2D(512, (3,3), padding=\"same\", activation=\"LeakyReLU\"),\n",
    "# tf.keras.layers.Conv2D(512, (3,3), padding=\"same\", activation=\"LeakyReLU\"),\n",
    "# tf.keras.layers.BatchNormalization(),\n",
    "# tf.keras.layers.MaxPooling2D(2,2),\n",
    "\n",
    "# tf.keras.layers. Flatten(),\n",
    "                       \n",
    "# tf.keras.layers.Dense(128, activation=\"LeakyReLU\"),\n",
    "# tf.keras.layers.BatchNormalization(),\n",
    "# tf.keras.layers.Dropout(0.2),\n",
    "\n",
    "# tf.keras.layers.Dense(128, activation=\"LeakyReLU\"),\n",
    "# tf.keras.layers.BatchNormalization(),\n",
    "# tf.keras.layers.Dropout(0.2),\n",
    "\n",
    "# tf.keras.layers.Dense (10, activation= \"softmax\")\n",
    "# ])"
   ]
  },
  {
   "cell_type": "markdown",
   "id": "0fc373a6",
   "metadata": {
    "papermill": {
     "duration": 0.007579,
     "end_time": "2023-01-09T05:06:25.858617",
     "exception": false,
     "start_time": "2023-01-09T05:06:25.851038",
     "status": "completed"
    },
    "tags": []
   },
   "source": [
    "**Summary of Model**"
   ]
  },
  {
   "cell_type": "code",
   "execution_count": 10,
   "id": "f3f259df",
   "metadata": {
    "execution": {
     "iopub.execute_input": "2023-01-09T05:06:25.875110Z",
     "iopub.status.busy": "2023-01-09T05:06:25.874393Z",
     "iopub.status.idle": "2023-01-09T05:06:25.881695Z",
     "shell.execute_reply": "2023-01-09T05:06:25.880730Z"
    },
    "papermill": {
     "duration": 0.018547,
     "end_time": "2023-01-09T05:06:25.884636",
     "exception": false,
     "start_time": "2023-01-09T05:06:25.866089",
     "status": "completed"
    },
    "tags": []
   },
   "outputs": [
    {
     "name": "stdout",
     "output_type": "stream",
     "text": [
      "Model: \"sequential\"\n",
      "_________________________________________________________________\n",
      "Layer (type)                 Output Shape              Param #   \n",
      "=================================================================\n",
      "conv2d (Conv2D)              (None, 250, 250, 16)      2368      \n",
      "_________________________________________________________________\n",
      "max_pooling2d (MaxPooling2D) (None, 125, 125, 16)      0         \n",
      "_________________________________________________________________\n",
      "conv2d_1 (Conv2D)            (None, 123, 123, 32)      4640      \n",
      "_________________________________________________________________\n",
      "max_pooling2d_1 (MaxPooling2 (None, 61, 61, 32)        0         \n",
      "_________________________________________________________________\n",
      "conv2d_2 (Conv2D)            (None, 61, 61, 64)        2112      \n",
      "_________________________________________________________________\n",
      "max_pooling2d_2 (MaxPooling2 (None, 30, 30, 64)        0         \n",
      "_________________________________________________________________\n",
      "conv2d_3 (Conv2D)            (None, 28, 28, 128)       73856     \n",
      "_________________________________________________________________\n",
      "max_pooling2d_3 (MaxPooling2 (None, 14, 14, 128)       0         \n",
      "_________________________________________________________________\n",
      "conv2d_4 (Conv2D)            (None, 8, 8, 256)         1605888   \n",
      "_________________________________________________________________\n",
      "max_pooling2d_4 (MaxPooling2 (None, 4, 4, 256)         0         \n",
      "_________________________________________________________________\n",
      "conv2d_5 (Conv2D)            (None, 2, 2, 512)         1180160   \n",
      "_________________________________________________________________\n",
      "max_pooling2d_5 (MaxPooling2 (None, 1, 1, 512)         0         \n",
      "_________________________________________________________________\n",
      "batch_normalization (BatchNo (None, 1, 1, 512)         2048      \n",
      "_________________________________________________________________\n",
      "flatten (Flatten)            (None, 512)               0         \n",
      "_________________________________________________________________\n",
      "dense (Dense)                (None, 256)               131328    \n",
      "_________________________________________________________________\n",
      "dropout (Dropout)            (None, 256)               0         \n",
      "_________________________________________________________________\n",
      "dense_1 (Dense)              (None, 128)               32896     \n",
      "_________________________________________________________________\n",
      "dropout_1 (Dropout)          (None, 128)               0         \n",
      "_________________________________________________________________\n",
      "dense_2 (Dense)              (None, 10)                1290      \n",
      "=================================================================\n",
      "Total params: 3,036,586\n",
      "Trainable params: 3,035,562\n",
      "Non-trainable params: 1,024\n",
      "_________________________________________________________________\n"
     ]
    }
   ],
   "source": [
    "# model = KHKModel()\n",
    "model.summary()"
   ]
  },
  {
   "cell_type": "markdown",
   "id": "4d99edb8",
   "metadata": {
    "papermill": {
     "duration": 0.007655,
     "end_time": "2023-01-09T05:06:25.899624",
     "exception": false,
     "start_time": "2023-01-09T05:06:25.891969",
     "status": "completed"
    },
    "tags": []
   },
   "source": [
    "**Visualising the CNN Architecture**"
   ]
  },
  {
   "cell_type": "code",
   "execution_count": 11,
   "id": "67c7d24d",
   "metadata": {
    "execution": {
     "iopub.execute_input": "2023-01-09T05:06:25.916366Z",
     "iopub.status.busy": "2023-01-09T05:06:25.915524Z",
     "iopub.status.idle": "2023-01-09T05:06:25.947525Z",
     "shell.execute_reply": "2023-01-09T05:06:25.946615Z"
    },
    "papermill": {
     "duration": 0.042324,
     "end_time": "2023-01-09T05:06:25.949421",
     "exception": false,
     "start_time": "2023-01-09T05:06:25.907097",
     "status": "completed"
    },
    "tags": []
   },
   "outputs": [
    {
     "data": {
      "image/png": "[encoded data removed]",
      "text/plain": [
       "<PIL.Image.Image image mode=RGBA size=264x422>"
      ]
     },
     "execution_count": 11,
     "metadata": {},
     "output_type": "execute_result"
    }
   ],
   "source": [
    "visualkeras.layered_view(model,legend=True,scale_xy=1, scale_z=1, max_z=1)"
   ]
  },
  {
   "cell_type": "markdown",
   "id": "0f5c7230",
   "metadata": {
    "papermill": {
     "duration": 0.007784,
     "end_time": "2023-01-09T05:06:25.964739",
     "exception": false,
     "start_time": "2023-01-09T05:06:25.956955",
     "status": "completed"
    },
    "tags": []
   },
   "source": [
    "**Compiling the Model**\n"
   ]
  },
  {
   "cell_type": "code",
   "execution_count": 12,
   "id": "aefecb4a",
   "metadata": {
    "execution": {
     "iopub.execute_input": "2023-01-09T05:06:25.981512Z",
     "iopub.status.busy": "2023-01-09T05:06:25.980750Z",
     "iopub.status.idle": "2023-01-09T05:06:25.998041Z",
     "shell.execute_reply": "2023-01-09T05:06:25.997235Z"
    },
    "papermill": {
     "duration": 0.027952,
     "end_time": "2023-01-09T05:06:26.000229",
     "exception": false,
     "start_time": "2023-01-09T05:06:25.972277",
     "status": "completed"
    },
    "tags": []
   },
   "outputs": [],
   "source": [
    "metrics = ['accuracy',Recall(), Precision()]\n",
    "model.compile(optimizer='adam',loss=tf.keras.losses.CategoricalCrossentropy(), metrics=metrics)"
   ]
  },
  {
   "cell_type": "markdown",
   "id": "76e9eeb4",
   "metadata": {
    "papermill": {
     "duration": 0.007615,
     "end_time": "2023-01-09T05:06:26.015373",
     "exception": false,
     "start_time": "2023-01-09T05:06:26.007758",
     "status": "completed"
    },
    "tags": []
   },
   "source": [
    "**Initializing Early Stop for Model**"
   ]
  },
  {
   "cell_type": "code",
   "execution_count": 13,
   "id": "a515ab04",
   "metadata": {
    "execution": {
     "iopub.execute_input": "2023-01-09T05:06:26.032333Z",
     "iopub.status.busy": "2023-01-09T05:06:26.031586Z",
     "iopub.status.idle": "2023-01-09T05:06:26.036683Z",
     "shell.execute_reply": "2023-01-09T05:06:26.035857Z"
    },
    "papermill": {
     "duration": 0.015638,
     "end_time": "2023-01-09T05:06:26.038781",
     "exception": false,
     "start_time": "2023-01-09T05:06:26.023143",
     "status": "completed"
    },
    "tags": []
   },
   "outputs": [],
   "source": [
    "callbacks = [\n",
    "    ReduceLROnPlateau(monitor='val_loss', factor=0.1, patience=4),\n",
    "    EarlyStopping(monitor='val_loss', patience=10, restore_best_weights=False)]"
   ]
  },
  {
   "cell_type": "markdown",
   "id": "b5795241",
   "metadata": {
    "papermill": {
     "duration": 0.007342,
     "end_time": "2023-01-09T05:06:26.053845",
     "exception": false,
     "start_time": "2023-01-09T05:06:26.046503",
     "status": "completed"
    },
    "tags": []
   },
   "source": [
    "**Fitting the Model**"
   ]
  },
  {
   "cell_type": "code",
   "execution_count": 14,
   "id": "07a43ad7",
   "metadata": {
    "execution": {
     "iopub.execute_input": "2023-01-09T05:06:26.070352Z",
     "iopub.status.busy": "2023-01-09T05:06:26.070073Z",
     "iopub.status.idle": "2023-01-09T06:42:01.094586Z",
     "shell.execute_reply": "2023-01-09T06:42:01.093492Z"
    },
    "papermill": {
     "duration": 5735.03532,
     "end_time": "2023-01-09T06:42:01.097206",
     "exception": false,
     "start_time": "2023-01-09T05:06:26.061886",
     "status": "completed"
    },
    "tags": []
   },
   "outputs": [
    {
     "name": "stderr",
     "output_type": "stream",
     "text": [
      "2023-01-09 05:06:26.517039: I tensorflow/compiler/mlir/mlir_graph_optimization_pass.cc:185] None of the MLIR Optimization Passes are enabled (registered 2)\n"
     ]
    },
    {
     "name": "stdout",
     "output_type": "stream",
     "text": [
      "Epoch 1/15\n"
     ]
    },
    {
     "name": "stderr",
     "output_type": "stream",
     "text": [
      "2023-01-09 05:06:28.831936: I tensorflow/stream_executor/cuda/cuda_dnn.cc:369] Loaded cuDNN version 8005\n"
     ]
    },
    {
     "name": "stdout",
     "output_type": "stream",
     "text": [
      "1141/1141 [==============================] - 444s 383ms/step - loss: 1.3668 - accuracy: 0.5383 - recall: 0.4205 - precision: 0.6495 - val_loss: 1.9577 - val_accuracy: 0.4761 - val_recall: 0.4417 - val_precision: 0.5287\n",
      "Epoch 2/15\n",
      "1141/1141 [==============================] - 356s 312ms/step - loss: 0.8077 - accuracy: 0.7168 - recall: 0.6561 - precision: 0.7744 - val_loss: 1.2383 - val_accuracy: 0.6188 - val_recall: 0.5871 - val_precision: 0.6544\n",
      "Epoch 3/15\n",
      "1141/1141 [==============================] - 357s 313ms/step - loss: 0.6071 - accuracy: 0.7905 - recall: 0.7506 - precision: 0.8278 - val_loss: 0.8187 - val_accuracy: 0.7422 - val_recall: 0.7219 - val_precision: 0.7637\n",
      "Epoch 4/15\n",
      "1141/1141 [==============================] - 354s 310ms/step - loss: 0.5120 - accuracy: 0.8245 - recall: 0.7962 - precision: 0.8505 - val_loss: 0.9131 - val_accuracy: 0.6957 - val_recall: 0.6711 - val_precision: 0.7414\n",
      "Epoch 5/15\n",
      "1141/1141 [==============================] - 358s 314ms/step - loss: 0.4274 - accuracy: 0.8510 - recall: 0.8296 - precision: 0.8734 - val_loss: 0.5781 - val_accuracy: 0.8242 - val_recall: 0.8052 - val_precision: 0.8450\n",
      "Epoch 6/15\n",
      "1141/1141 [==============================] - 351s 308ms/step - loss: 0.3797 - accuracy: 0.8706 - recall: 0.8530 - precision: 0.8876 - val_loss: 0.3404 - val_accuracy: 0.8844 - val_recall: 0.8737 - val_precision: 0.8968\n",
      "Epoch 7/15\n",
      "1141/1141 [==============================] - 360s 316ms/step - loss: 0.3222 - accuracy: 0.8893 - recall: 0.8765 - precision: 0.9031 - val_loss: 0.4408 - val_accuracy: 0.8569 - val_recall: 0.8449 - val_precision: 0.8713\n",
      "Epoch 8/15\n",
      "1141/1141 [==============================] - 362s 317ms/step - loss: 0.3015 - accuracy: 0.8995 - recall: 0.8881 - precision: 0.9122 - val_loss: 0.1924 - val_accuracy: 0.9315 - val_recall: 0.9248 - val_precision: 0.9426\n",
      "Epoch 9/15\n",
      "1141/1141 [==============================] - 358s 313ms/step - loss: 0.2690 - accuracy: 0.9087 - recall: 0.8985 - precision: 0.9187 - val_loss: 0.3899 - val_accuracy: 0.8774 - val_recall: 0.8602 - val_precision: 0.8980\n",
      "Epoch 10/15\n",
      "1141/1141 [==============================] - 368s 323ms/step - loss: 0.2442 - accuracy: 0.9172 - recall: 0.9092 - precision: 0.9259 - val_loss: 0.7899 - val_accuracy: 0.7738 - val_recall: 0.7640 - val_precision: 0.7849\n",
      "Epoch 11/15\n",
      "1141/1141 [==============================] - 363s 318ms/step - loss: 0.2267 - accuracy: 0.9246 - recall: 0.9178 - precision: 0.9336 - val_loss: 0.3220 - val_accuracy: 0.9012 - val_recall: 0.8929 - val_precision: 0.9096\n",
      "Epoch 12/15\n",
      "1141/1141 [==============================] - 359s 315ms/step - loss: 0.2107 - accuracy: 0.9274 - recall: 0.9200 - precision: 0.9348 - val_loss: 0.5095 - val_accuracy: 0.8598 - val_recall: 0.8526 - val_precision: 0.8718\n",
      "Epoch 13/15\n",
      "1141/1141 [==============================] - 356s 311ms/step - loss: 0.0887 - accuracy: 0.9695 - recall: 0.9656 - precision: 0.9735 - val_loss: 0.0556 - val_accuracy: 0.9817 - val_recall: 0.9797 - val_precision: 0.9831\n",
      "Epoch 14/15\n",
      "1141/1141 [==============================] - 368s 323ms/step - loss: 0.0701 - accuracy: 0.9755 - recall: 0.9731 - precision: 0.9778 - val_loss: 0.0499 - val_accuracy: 0.9852 - val_recall: 0.9847 - val_precision: 0.9865\n",
      "Epoch 15/15\n",
      "1141/1141 [==============================] - 362s 317ms/step - loss: 0.0726 - accuracy: 0.9753 - recall: 0.9728 - precision: 0.9773 - val_loss: 0.0551 - val_accuracy: 0.9828 - val_recall: 0.9821 - val_precision: 0.9836\n"
     ]
    }
   ],
   "source": [
    "history = model.fit(train_data,epochs = EPOCHS,validation_data = val_data,callbacks = callbacks)"
   ]
  },
  {
   "cell_type": "markdown",
   "id": "76b1c3f9",
   "metadata": {
    "papermill": {
     "duration": 1.017864,
     "end_time": "2023-01-09T06:42:03.116139",
     "exception": false,
     "start_time": "2023-01-09T06:42:02.098275",
     "status": "completed"
    },
    "tags": []
   },
   "source": [
    "**Evaluating Accuracy**"
   ]
  },
  {
   "cell_type": "code",
   "execution_count": 15,
   "id": "3feca286",
   "metadata": {
    "execution": {
     "iopub.execute_input": "2023-01-09T06:42:05.204387Z",
     "iopub.status.busy": "2023-01-09T06:42:05.203639Z",
     "iopub.status.idle": "2023-01-09T06:42:08.830041Z",
     "shell.execute_reply": "2023-01-09T06:42:08.829000Z"
    },
    "papermill": {
     "duration": 4.760402,
     "end_time": "2023-01-09T06:42:08.832207",
     "exception": false,
     "start_time": "2023-01-09T06:42:04.071805",
     "status": "completed"
    },
    "tags": []
   },
   "outputs": [
    {
     "data": {
      "image/png": "[encoded data removed]",
      "text/plain": [
       "<Figure size 1152x432 with 2 Axes>"
      ]
     },
     "metadata": {
      "needs_background": "light"
     },
     "output_type": "display_data"
    }
   ],
   "source": [
    "acc = history.history['accuracy']\n",
    "val_acc = history.history['val_accuracy']\n",
    "\n",
    "loss = history.history['loss']\n",
    "val_loss = history.history['val_loss']\n",
    "\n",
    "epochs_range = history.epoch\n",
    "\n",
    "plt.figure(figsize = (16, 6))\n",
    "\n",
    "plt.subplot(1, 2, 1)\n",
    "plt.plot(epochs_range, acc, label = 'Training Accuracy')\n",
    "plt.plot(epochs_range, val_acc, label = 'Validation Accuracy')\n",
    "plt.legend(loc = 'lower right')\n",
    "plt.title('Training and Validation Accuracy')\n",
    "\n",
    "plt.subplot(1, 2, 2)\n",
    "plt.plot(epochs_range, loss, label = 'Training Loss')\n",
    "plt.plot(epochs_range, val_loss, label = 'Validation Loss')\n",
    "plt.legend(loc = 'upper right')\n",
    "plt.title('Training and Validation Loss')\n",
    "\n",
    "plt.suptitle('Plant Leaf Disease Detection')\n",
    "\n",
    "plt.savefig('acc_and_loss.jpg', dpi = 1000, bbox_inches='tight')\n",
    "plt.show()"
   ]
  },
  {
   "cell_type": "markdown",
   "id": "d044fb50",
   "metadata": {
    "papermill": {
     "duration": 0.98404,
     "end_time": "2023-01-09T06:42:10.740696",
     "exception": false,
     "start_time": "2023-01-09T06:42:09.756656",
     "status": "completed"
    },
    "tags": []
   },
   "source": [
    "**Test Data Images**"
   ]
  },
  {
   "cell_type": "code",
   "execution_count": 16,
   "id": "9d47774d",
   "metadata": {
    "execution": {
     "iopub.execute_input": "2023-01-09T06:42:12.704277Z",
     "iopub.status.busy": "2023-01-09T06:42:12.703885Z",
     "iopub.status.idle": "2023-01-09T06:42:12.708615Z",
     "shell.execute_reply": "2023-01-09T06:42:12.707675Z"
    },
    "papermill": {
     "duration": 1.05406,
     "end_time": "2023-01-09T06:42:12.710698",
     "exception": false,
     "start_time": "2023-01-09T06:42:11.656638",
     "status": "completed"
    },
    "tags": []
   },
   "outputs": [],
   "source": [
    "# test_image_data = []\n",
    "# test_image_filenames = []\n",
    "\n",
    "# for img_name in os.listdir(TEST_DIR):\n",
    "#     img = load_img(os.path.join(TEST_DIR, img_name), target_size = IMG_SHAPE)\n",
    "#     test_image_data.append(img_to_array(img, dtype = 'uint8'))\n",
    "#     test_image_filenames.append(img_name)\n",
    "#     print(img_name)\n",
    "    \n",
    "# test_image_data = np.array(test_image_data)/255\n",
    "# print(f'\\nTotal testing images: {len(test_image_data)}')"
   ]
  },
  {
   "cell_type": "code",
   "execution_count": 17,
   "id": "f0d2f9d7",
   "metadata": {
    "execution": {
     "iopub.execute_input": "2023-01-09T06:42:14.669380Z",
     "iopub.status.busy": "2023-01-09T06:42:14.668819Z",
     "iopub.status.idle": "2023-01-09T06:42:14.673608Z",
     "shell.execute_reply": "2023-01-09T06:42:14.672674Z"
    },
    "papermill": {
     "duration": 1.057889,
     "end_time": "2023-01-09T06:42:14.676035",
     "exception": false,
     "start_time": "2023-01-09T06:42:13.618146",
     "status": "completed"
    },
    "tags": []
   },
   "outputs": [],
   "source": [
    "# plt.subplots(nrows = 3, ncols = 4, figsize = (20, 15))\n",
    "\n",
    "# for i in range(12):\n",
    "#     plt.subplot(3, 4, i + 1)\n",
    "#     plt.axis(False)\n",
    "#     plt.grid(False)\n",
    "#     plt.imshow(test_image_data[i])\n",
    "#     plt.title(f\"True: {test_image_filenames[i][:-4]}\\nPrediction:{test_image_data[i]}\")\n",
    "\n",
    "# plt.show()"
   ]
  },
  {
   "cell_type": "markdown",
   "id": "94bc3585",
   "metadata": {
    "papermill": {
     "duration": 0.949409,
     "end_time": "2023-01-09T06:42:16.798940",
     "exception": false,
     "start_time": "2023-01-09T06:42:15.849531",
     "status": "completed"
    },
    "tags": []
   },
   "source": [
    "**Test Data**"
   ]
  },
  {
   "cell_type": "code",
   "execution_count": 18,
   "id": "3dee22c9",
   "metadata": {
    "execution": {
     "iopub.execute_input": "2023-01-09T06:42:18.704073Z",
     "iopub.status.busy": "2023-01-09T06:42:18.703691Z",
     "iopub.status.idle": "2023-01-09T06:42:18.818908Z",
     "shell.execute_reply": "2023-01-09T06:42:18.817738Z"
    },
    "papermill": {
     "duration": 1.043312,
     "end_time": "2023-01-09T06:42:18.821674",
     "exception": false,
     "start_time": "2023-01-09T06:42:17.778362",
     "status": "completed"
    },
    "tags": []
   },
   "outputs": [
    {
     "name": "stdout",
     "output_type": "stream",
     "text": [
      "Found 90 images belonging to 10 classes.\n"
     ]
    }
   ],
   "source": [
    "val_image_gen = ImageDataGenerator(rescale = 1./255,\n",
    "        rotation_range = 15,\n",
    "        width_shift_range = 0.05,\n",
    "        height_shift_range = 0.05,\n",
    "        shear_range = 0.05,\n",
    "        zoom_range = 0.05,\n",
    "        horizontal_flip = True,\n",
    "        vertical_flip = True,\n",
    "        fill_mode = 'reflect')\n",
    "Test_data_gen = val_image_gen.flow_from_directory(\n",
    "        batch_size = BATCH_SIZE,\n",
    "        directory = TEST_DIR,\n",
    "        shuffle = True,\n",
    "        target_size = IMG_SHAPE\n",
    "    )"
   ]
  },
  {
   "cell_type": "markdown",
   "id": "3e393870",
   "metadata": {
    "papermill": {
     "duration": 0.970195,
     "end_time": "2023-01-09T06:42:20.764498",
     "exception": false,
     "start_time": "2023-01-09T06:42:19.794303",
     "status": "completed"
    },
    "tags": []
   },
   "source": [
    "**Evaluation Metrics**"
   ]
  },
  {
   "cell_type": "code",
   "execution_count": 19,
   "id": "a726c08c",
   "metadata": {
    "execution": {
     "iopub.execute_input": "2023-01-09T06:42:22.655828Z",
     "iopub.status.busy": "2023-01-09T06:42:22.655402Z",
     "iopub.status.idle": "2023-01-09T06:42:22.663018Z",
     "shell.execute_reply": "2023-01-09T06:42:22.661545Z"
    },
    "papermill": {
     "duration": 0.973651,
     "end_time": "2023-01-09T06:42:22.665115",
     "exception": false,
     "start_time": "2023-01-09T06:42:21.691464",
     "status": "completed"
    },
    "tags": []
   },
   "outputs": [
    {
     "name": "stdout",
     "output_type": "stream",
     "text": [
      "\n",
      "Total number of classes: 10\n",
      " 0 : Tomato___Bacterial_spot\n",
      " 1 : Tomato___Early_blight\n",
      " 2 : Tomato___Late_blight\n",
      " 3 : Tomato___Leaf_Mold\n",
      " 4 : Tomato___Septoria_leaf_spot\n",
      " 5 : Tomato___Spider_mites Two-spotted_spider_mite\n",
      " 6 : Tomato___Target_Spot\n",
      " 7 : Tomato___Tomato_Yellow_Leaf_Curl_Virus\n",
      " 8 : Tomato___Tomato_mosaic_virus\n",
      " 9 : Tomato___healthy\n"
     ]
    }
   ],
   "source": [
    "total_classes = len(os.listdir(TRAIN_DIR))\n",
    "print(f'\\nTotal number of classes: {total_classes}')\n",
    "class_name_lookup = {name: index for index, name in train_data.class_indices.items()}\n",
    "for k, v in class_name_lookup.items():\n",
    "    print(f\"{k:2} : {v}\")"
   ]
  },
  {
   "cell_type": "code",
   "execution_count": 20,
   "id": "2e277df5",
   "metadata": {
    "execution": {
     "iopub.execute_input": "2023-01-09T06:42:24.607574Z",
     "iopub.status.busy": "2023-01-09T06:42:24.606525Z",
     "iopub.status.idle": "2023-01-09T06:42:55.131467Z",
     "shell.execute_reply": "2023-01-09T06:42:55.130512Z"
    },
    "papermill": {
     "duration": 32.472067,
     "end_time": "2023-01-09T06:42:56.142783",
     "exception": false,
     "start_time": "2023-01-09T06:42:23.670716",
     "status": "completed"
    },
    "tags": []
   },
   "outputs": [
    {
     "data": {
      "image/png": "[encoded data removed]",
      "text/plain": [
       "<Figure size 1440x1152 with 2 Axes>"
      ]
     },
     "metadata": {
      "needs_background": "light"
     },
     "output_type": "display_data"
    }
   ],
   "source": [
    "val_true = Test_data_gen.classes\n",
    "val_pred = np.argmax(model.predict(Test_data_gen), axis = 1)\n",
    "\n",
    "_, ax = plt.subplots(figsize = (20, 16))\n",
    "\n",
    "ConfusionMatrixDisplay(confusion_matrix(val_true, val_pred, labels = list(class_name_lookup.keys())),\n",
    "                        display_labels = list(class_name_lookup.values())\n",
    "                        ).plot(ax = ax, xticks_rotation = 'vertical')\n",
    "                        \n",
    "plt.savefig('confusion_matrix.jpg', dpi = 1000, bbox_inches = 'tight')\n",
    "plt.show()"
   ]
  },
  {
   "cell_type": "markdown",
   "id": "9fb6db92",
   "metadata": {
    "papermill": {
     "duration": 1.020489,
     "end_time": "2023-01-09T06:42:58.076483",
     "exception": false,
     "start_time": "2023-01-09T06:42:57.055994",
     "status": "completed"
    },
    "tags": []
   },
   "source": [
    "**Summary of Evaluation Metrics**"
   ]
  },
  {
   "cell_type": "code",
   "execution_count": 21,
   "id": "13f7d804",
   "metadata": {
    "execution": {
     "iopub.execute_input": "2023-01-09T06:43:00.719095Z",
     "iopub.status.busy": "2023-01-09T06:43:00.718724Z",
     "iopub.status.idle": "2023-01-09T06:43:02.358242Z",
     "shell.execute_reply": "2023-01-09T06:43:02.356844Z"
    },
    "papermill": {
     "duration": 2.940294,
     "end_time": "2023-01-09T06:43:02.360379",
     "exception": false,
     "start_time": "2023-01-09T06:42:59.420085",
     "status": "completed"
    },
    "tags": []
   },
   "outputs": [
    {
     "name": "stdout",
     "output_type": "stream",
     "text": [
      "              precision    recall  f1-score   support\n",
      "\n",
      "           0       0.22      0.22      0.22         9\n",
      "           1       0.11      0.10      0.11        10\n",
      "           2       0.00      0.00      0.00         8\n",
      "           3       0.11      0.11      0.11         9\n",
      "           4       0.22      0.22      0.22         9\n",
      "           5       0.11      0.11      0.11         9\n",
      "           6       0.00      0.00      0.00         9\n",
      "           7       0.11      0.11      0.11         9\n",
      "           8       0.00      0.00      0.00         9\n",
      "           9       0.11      0.11      0.11         9\n",
      "\n",
      "    accuracy                           0.10        90\n",
      "   macro avg       0.10      0.10      0.10        90\n",
      "weighted avg       0.10      0.10      0.10        90\n",
      "\n"
     ]
    }
   ],
   "source": [
    "from sklearn.metrics import classification_report, confusion_matrix\n",
    "\n",
    "y_pred= model.predict(Test_data_gen)\n",
    "y_pred=np.argmax(y_pred,axis=1)\n",
    "print(classification_report(y_pred,Test_data_gen.classes))\n",
    "cf = confusion_matrix(y_pred,Test_data_gen.classes)"
   ]
  }
 ],
 "metadata": {
  "kernelspec": {
   "display_name": "Python 3",
   "language": "python",
   "name": "python3"
  },
  "language_info": {
   "codemirror_mode": {
    "name": "ipython",
    "version": 3
   },
   "file_extension": ".py",
   "mimetype": "text/x-python",
   "name": "python",
   "nbconvert_exporter": "python",
   "pygments_lexer": "ipython3",
   "version": "3.7.12"
  },
  "papermill": {
   "default_parameters": {},
   "duration": 5842.994246,
   "end_time": "2023-01-09T06:43:06.802315",
   "environment_variables": {},
   "exception": null,
   "input_path": "__notebook__.ipynb",
   "output_path": "__notebook__.ipynb",
   "parameters": {},
   "start_time": "2023-01-09T05:05:43.808069",
   "version": "2.3.4"
  }
 },
 "nbformat": 4,
 "nbformat_minor": 5
}
